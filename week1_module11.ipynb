{
  "nbformat": 4,
  "nbformat_minor": 0,
  "metadata": {
    "colab": {
      "name": "week1_module11",
      "provenance": [],
      "authorship_tag": "ABX9TyOADHmzYUAxBIO0tjflYXqI",
      "include_colab_link": true
    },
    "kernelspec": {
      "name": "python3",
      "display_name": "Python 3"
    },
    "language_info": {
      "name": "python"
    }
  },
  "cells": [
    {
      "cell_type": "markdown",
      "metadata": {
        "id": "view-in-github",
        "colab_type": "text"
      },
      "source": [
        "<a href=\"https://colab.research.google.com/github/Fellylove/bioinformatics_algorithms_coursera/blob/master/week1_module11.ipynb\" target=\"_parent\"><img src=\"https://colab.research.google.com/assets/colab-badge.svg\" alt=\"Open In Colab\"/></a>"
      ]
    },
    {
      "cell_type": "code",
      "execution_count": null,
      "metadata": {
        "colab": {
          "base_uri": "https://localhost:8080/"
        },
        "id": "gZWjaj1a9H6S",
        "outputId": "11737205-5349-4df5-dd48-1d5d5a215743"
      },
      "outputs": [
        {
          "output_type": "stream",
          "name": "stdout",
          "text": [
            "Collecting wget\n",
            "  Downloading wget-3.2.zip (10 kB)\n",
            "Building wheels for collected packages: wget\n",
            "  Building wheel for wget (setup.py) ... \u001b[?25l\u001b[?25hdone\n",
            "  Created wheel for wget: filename=wget-3.2-py3-none-any.whl size=9675 sha256=b38f4d81690676a089fa50f86740b5f449a81db2485e7083116086bce6070be4\n",
            "  Stored in directory: /root/.cache/pip/wheels/a1/b6/7c/0e63e34eb06634181c63adacca38b79ff8f35c37e3c13e3c02\n",
            "Successfully built wget\n",
            "Installing collected packages: wget\n",
            "Successfully installed wget-3.2\n"
          ]
        }
      ],
      "source": [
        "pip install wget"
      ]
    },
    {
      "cell_type": "code",
      "source": [
        "!wget --no-check https://d28rh4a8wq0iu5.cloudfront.net/ads1/data/ads1_week4_reads.fq"
      ],
      "metadata": {
        "colab": {
          "base_uri": "https://localhost:8080/"
        },
        "id": "4xxpWFI39R0n",
        "outputId": "a7caa241-62d1-41ad-dedc-f3f04a35b07a"
      },
      "execution_count": null,
      "outputs": [
        {
          "output_type": "stream",
          "name": "stdout",
          "text": [
            "--2022-01-20 00:49:01--  https://d28rh4a8wq0iu5.cloudfront.net/ads1/data/ads1_week4_reads.fq\n",
            "Resolving d28rh4a8wq0iu5.cloudfront.net (d28rh4a8wq0iu5.cloudfront.net)... 13.224.2.8, 13.224.2.54, 13.224.2.74, ...\n",
            "Connecting to d28rh4a8wq0iu5.cloudfront.net (d28rh4a8wq0iu5.cloudfront.net)|13.224.2.8|:443... connected.\n",
            "HTTP request sent, awaiting response... 200 OK\n",
            "Length: 395781 (387K) [video/m2ts]\n",
            "Saving to: ‘ads1_week4_reads.fq’\n",
            "\n",
            "\rads1_week4_reads.fq   0%[                    ]       0  --.-KB/s               \rads1_week4_reads.fq 100%[===================>] 386.50K  --.-KB/s    in 0.02s   \n",
            "\n",
            "2022-01-20 00:49:01 (15.4 MB/s) - ‘ads1_week4_reads.fq’ saved [395781/395781]\n",
            "\n"
          ]
        }
      ]
    },
    {
      "cell_type": "code",
      "source": [
        "#read genome from fasta read\n",
        "\n",
        "def  readGenome (filename):\n",
        "  genome = ''\n",
        "  with open(filename, 'r') as f:\n",
        "    for line in f:\n",
        "      if not line[0] == '>':\n",
        "        genome += line.rstrip()\n",
        "  return genome"
      ],
      "metadata": {
        "id": "uvYhHd_T9mSf"
      },
      "execution_count": null,
      "outputs": []
    },
    {
      "cell_type": "code",
      "source": [
        "genome = readGenome(\"ads1_week4_reads.fq\")"
      ],
      "metadata": {
        "id": "jYDt-hp19w9W"
      },
      "execution_count": null,
      "outputs": []
    },
    {
      "cell_type": "code",
      "source": [
        "len(genome)"
      ],
      "metadata": {
        "colab": {
          "base_uri": "https://localhost:8080/"
        },
        "id": "XKpdueeH-BTh",
        "outputId": "8ba90f7b-341a-44fb-cf51-4da28fbba8d8"
      },
      "execution_count": null,
      "outputs": [
        {
          "output_type": "execute_result",
          "data": {
            "text/plain": [
              "388257"
            ]
          },
          "metadata": {},
          "execution_count": 6
        }
      ]
    },
    {
      "cell_type": "code",
      "source": [
        "\n"
      ],
      "metadata": {
        "id": "c1IHSoky-Qx4"
      },
      "execution_count": null,
      "outputs": []
    },
    {
      "cell_type": "code",
      "source": [
        "from collections import Counter\n",
        "\n",
        "count = collections.counter(genome)\n",
        "print"
      ],
      "metadata": {
        "id": "EGgon-cN-EP6"
      },
      "execution_count": null,
      "outputs": []
    },
    {
      "cell_type": "markdown",
      "source": [
        "##Programming Homework 1 Instructions (Read First)"
      ],
      "metadata": {
        "id": "go6CXOKaY5a5"
      }
    },
    {
      "cell_type": "code",
      "source": [
        "# naive exact matching algorithm:\n",
        "def naive(p, t):\n",
        "    occurrences = []\n",
        "    for i in range(len(t) - len(p) + 1):  # loop over alignments\n",
        "        match = True\n",
        "        for j in range(len(p)):  # loop over characters\n",
        "            if t[i+j] != p[j]:  # compare characters\n",
        "                match = False\n",
        "                break\n",
        "        if match:\n",
        "            occurrences.append(i)  # all chars matched; record\n",
        "    return occurrences\n"
      ],
      "metadata": {
        "id": "kK8pg8yhYwul"
      },
      "execution_count": 24,
      "outputs": []
    },
    {
      "cell_type": "code",
      "source": [
        "# reverse complement\n",
        "\n",
        "def reverseComplement(s):\n",
        "    complement = {'A': 'T', 'C': 'G', 'G': 'C', 'T': 'A', 'N': 'N'}\n",
        "    t = ''\n",
        "    for base in s:\n",
        "        t = complement[base] + t\n",
        "    return t"
      ],
      "metadata": {
        "id": "4j666Q-abB1A"
      },
      "execution_count": 25,
      "outputs": []
    },
    {
      "cell_type": "code",
      "source": [
        "def readGenome(filename):\n",
        "    genome = ''\n",
        "    with open(filename, 'r') as f:\n",
        "        for line in f:\n",
        "            # ignore header line with genome information\n",
        "            if not line[0] == '>':\n",
        "                genome += line.rstrip()\n",
        "    return genome"
      ],
      "metadata": {
        "id": "RANyaLWhbOMr"
      },
      "execution_count": 26,
      "outputs": []
    },
    {
      "cell_type": "code",
      "source": [
        "def readFastq(filename):\n",
        "    sequences = []\n",
        "    qualities = []\n",
        "    with open(filename) as fh:\n",
        "        while True:\n",
        "            fh.readline()  # skip name line\n",
        "            seq = fh.readline().rstrip()  # read base sequence\n",
        "            fh.readline()  # skip placeholder line\n",
        "            qual = fh.readline().rstrip() # base quality line\n",
        "            if len(seq) == 0:\n",
        "                break\n",
        "            sequences.append(seq)\n",
        "            qualities.append(qual)\n",
        "    return sequences, qualities"
      ],
      "metadata": {
        "id": "cb7DhexobVd6"
      },
      "execution_count": 27,
      "outputs": []
    },
    {
      "cell_type": "code",
      "source": [
        "!wget --no-check https://d28rh4a8wq0iu5.cloudfront.net/ads1/data/lambda_virus.fa"
      ],
      "metadata": {
        "colab": {
          "base_uri": "https://localhost:8080/"
        },
        "id": "cZwpyX96b9Sy",
        "outputId": "972fa4f4-ea71-41e5-ec4f-355eb5a2d70b"
      },
      "execution_count": 23,
      "outputs": [
        {
          "output_type": "stream",
          "name": "stdout",
          "text": [
            "--2022-01-21 02:21:11--  https://d28rh4a8wq0iu5.cloudfront.net/ads1/data/lambda_virus.fa\n",
            "Resolving d28rh4a8wq0iu5.cloudfront.net (d28rh4a8wq0iu5.cloudfront.net)... 99.84.221.168, 99.84.221.117, 99.84.221.66, ...\n",
            "Connecting to d28rh4a8wq0iu5.cloudfront.net (d28rh4a8wq0iu5.cloudfront.net)|99.84.221.168|:443... connected.\n",
            "HTTP request sent, awaiting response... 200 OK\n",
            "Length: 49270 (48K) [application/octet-stream]\n",
            "Saving to: ‘lambda_virus.fa.1’\n",
            "\n",
            "lambda_virus.fa.1   100%[===================>]  48.12K  --.-KB/s    in 0.02s   \n",
            "\n",
            "2022-01-21 02:21:12 (2.13 MB/s) - ‘lambda_virus.fa.1’ saved [49270/49270]\n",
            "\n"
          ]
        }
      ]
    },
    {
      "cell_type": "code",
      "source": [
        "# how many times does AGGT or it's reverse complement ACCA occur in the lambda virus\n",
        "\n",
        "lambda_genome = readGenome('lambda_virus.fa.1')\n",
        "\n",
        "print(lambda_genome[:100])"
      ],
      "metadata": {
        "colab": {
          "base_uri": "https://localhost:8080/"
        },
        "id": "n755rO16cZs7",
        "outputId": "f0ae6b22-f9dd-4079-be43-f690ca14d41d"
      },
      "execution_count": 29,
      "outputs": [
        {
          "output_type": "stream",
          "name": "stdout",
          "text": [
            "GGGCGGCGACCTCGCGGGTTTTCGCTATTTATGAAAATTTTCCGGTTTAAGGCGTTTCCGTTCTTCTTCGTCATAACTTAATGTTTTTATTTAAAATACC\n"
          ]
        }
      ]
    },
    {
      "cell_type": "code",
      "source": [
        "print(len(naive('AGGT', lambda_genome)))"
      ],
      "metadata": {
        "colab": {
          "base_uri": "https://localhost:8080/"
        },
        "id": "kvF9_9bHekCt",
        "outputId": "7c07ebad-6398-4b3b-a4cd-14ce75393aa2"
      },
      "execution_count": 34,
      "outputs": [
        {
          "output_type": "stream",
          "name": "stdout",
          "text": [
            "150\n"
          ]
        }
      ]
    },
    {
      "cell_type": "code",
      "source": [
        "def occurGenome (seq, genome):\n",
        "\n",
        "  occurSeq = len(naive(seq, genome))\n",
        "  occurReverse = len(naive(reverseComplement(seq), genome))\n",
        "\n",
        "  if occurSeq == occurReverse:\n",
        "    return occurSeq\n",
        "  elif occurSeq != occurReverse:\n",
        "    return (occurSeq + occurReverse)"
      ],
      "metadata": {
        "id": "XbTahG_qfBtJ"
      },
      "execution_count": 47,
      "outputs": []
    },
    {
      "cell_type": "code",
      "source": [
        "#seq = 'AGGT' #answer 306\n",
        "seq = 'TTAA'\n",
        "reverseSeq = 'ACCT'\n",
        "genome = lambda_genome\n",
        "\n",
        "occurs= occurGenome(seq, genome)\n",
        "print(occurs)"
      ],
      "metadata": {
        "colab": {
          "base_uri": "https://localhost:8080/"
        },
        "id": "jPYxfXihgRku",
        "outputId": "ec64e643-213c-4d5a-e17c-4c27b44b1d5f"
      },
      "execution_count": 49,
      "outputs": [
        {
          "output_type": "stream",
          "name": "stdout",
          "text": [
            "195\n"
          ]
        }
      ]
    },
    {
      "cell_type": "code",
      "source": [
        "print(len(naive('ACCT', genome))) #150 +156 = 306"
      ],
      "metadata": {
        "colab": {
          "base_uri": "https://localhost:8080/"
        },
        "id": "l8icN-HrxbMM",
        "outputId": "20304e11-a53d-4948-f754-2913142d06d8"
      },
      "execution_count": 45,
      "outputs": [
        {
          "output_type": "stream",
          "name": "stdout",
          "text": [
            "156\n"
          ]
        }
      ]
    },
    {
      "cell_type": "code",
      "source": [
        "count = 0\n",
        "count += len(naive('AGGT', genome))\n",
        "count += len(naive(reverseComplement('AGGT'), genome))\n",
        "print(count)"
      ],
      "metadata": {
        "colab": {
          "base_uri": "https://localhost:8080/"
        },
        "id": "YL6tuidjxJ1S",
        "outputId": "a3aec6db-941c-4f10-9adb-b5a5d190c0c0"
      },
      "execution_count": 44,
      "outputs": [
        {
          "output_type": "stream",
          "name": "stdout",
          "text": [
            "306\n"
          ]
        }
      ]
    },
    {
      "cell_type": "code",
      "source": [
        "count = len(naive('TTAA', genome))\n",
        "print(count)"
      ],
      "metadata": {
        "colab": {
          "base_uri": "https://localhost:8080/"
        },
        "id": "cyh9bCjWx-6u",
        "outputId": "1674307b-8255-4a8c-cc5a-b53dc3bf5ad7"
      },
      "execution_count": 50,
      "outputs": [
        {
          "output_type": "stream",
          "name": "stdout",
          "text": [
            "195\n"
          ]
        }
      ]
    },
    {
      "cell_type": "markdown",
      "source": [
        "question5 = '''As we will discuss, sometimes we would like to find approximate matches for P in T.\n",
        "That is, we want to find occurrences with one or more differences.\n",
        "For Questions 5 and 6, make a new version of the naive function called naive_2mm\n",
        "that allows up to 2 mismatches per occurrence. Unlike for the previous questions,\n",
        "do not consider the reverse complement here. We're looking for approximate matches for P itself,\n",
        "not its reverse complement.\n",
        "For example, ACTTTA occurs twice in ACTTACTTGATAAAGT, once at offset 0 with 2 mismatches,\n",
        "and once at offset 4 with 1 mismatch. So naive_2mm(’ACTTTA’,’ACTTACTTGATAAAGT’)\n",
        "should return the list [0,4].\n",
        "How many times does TTCAAGCC occur in the Lambda virus genome when allowing up to 2 mismatches?'''\n",
        "print(question5)"
      ],
      "metadata": {
        "id": "aytp2iL61xxg"
      }
    },
    {
      "cell_type": "code",
      "source": [
        "!wget --no-check Question https://d28rh4a8wq0iu5.cloudfront.net/ads1/data/ERR037900_1.first1000.fastq"
      ],
      "metadata": {
        "colab": {
          "base_uri": "https://localhost:8080/"
        },
        "id": "vChrb_Ck5OjJ",
        "outputId": "0f91050d-04bc-405b-a9e0-7c445fda80ab"
      },
      "execution_count": 54,
      "outputs": [
        {
          "output_type": "stream",
          "name": "stdout",
          "text": [
            "--2022-01-21 04:29:20--  http://question/\n",
            "Resolving question (question)... failed: Name or service not known.\n",
            "wget: unable to resolve host address ‘question’\n",
            "--2022-01-21 04:29:20--  https://d28rh4a8wq0iu5.cloudfront.net/ads1/data/ERR037900_1.first1000.fastq\n",
            "Resolving d28rh4a8wq0iu5.cloudfront.net (d28rh4a8wq0iu5.cloudfront.net)... 13.32.84.31, 13.32.84.169, 13.32.84.71, ...\n",
            "Connecting to d28rh4a8wq0iu5.cloudfront.net (d28rh4a8wq0iu5.cloudfront.net)|13.32.84.31|:443... connected.\n",
            "HTTP request sent, awaiting response... 200 OK\n",
            "Length: 241626 (236K) [application/octet-stream]\n",
            "Saving to: ‘ERR037900_1.first1000.fastq’\n",
            "\n",
            "ERR037900_1.first10 100%[===================>] 235.96K  --.-KB/s    in 0.1s    \n",
            "\n",
            "2022-01-21 04:29:21 (2.29 MB/s) - ‘ERR037900_1.first1000.fastq’ saved [241626/241626]\n",
            "\n",
            "FINISHED --2022-01-21 04:29:21--\n",
            "Total wall clock time: 0.5s\n",
            "Downloaded: 1 files, 236K in 0.1s (2.29 MB/s)\n"
          ]
        }
      ]
    },
    {
      "cell_type": "code",
      "source": [
        "## allows for two mismatches\n",
        "\n",
        "\n",
        "def naive_2mm(p, t):\n",
        "    occurrences = []\n",
        "    for i in range(len(t) - len(p) + 1):  # loop over alignments\n",
        "        mismatch = 0\n",
        "        for j in range(len(p)):  # loop over characters\n",
        "            if t[i+j] != p[j]:  # compare characters\n",
        "                mismatch += 1\n",
        "                if mismatch > 2:\n",
        "                    break\n",
        "        if mismatch <= 2:\n",
        "            occurrences.append(i)  # all chars matched; record\n",
        "    return occurrences"
      ],
      "metadata": {
        "id": "EXFvt-Us1o52"
      },
      "execution_count": null,
      "outputs": []
    },
    {
      "cell_type": "code",
      "source": [
        "seq, qual = readFastq('ERR037900_1.first1000.fastq')\n",
        "print(seq[:5])\n",
        "print(qual[:5])\n",
        "print(len(seq[0]))"
      ],
      "metadata": {
        "colab": {
          "base_uri": "https://localhost:8080/"
        },
        "id": "gOqOugR94-GV",
        "outputId": "7b9e4863-cd75-466f-d7d9-47212725c6a3"
      },
      "execution_count": 55,
      "outputs": [
        {
          "output_type": "stream",
          "name": "stdout",
          "text": [
            "['TAACCCTAACCCTAACCCTAACCCTAACCCTAACCCTAACCCTAACCCTAACCCTAACCCTAACCCNAACCCTAACCCTAACCCTAACCCTAACCCTAAC', 'TAACCCTAACCCTAACCCTAACCCTAACCCTAACCCTAACCCTAACCCTAACCCTAACCCTAACCCNAACCCTAACCCTAACCCTAACCCTNACCCTAAC', 'TAACCCTAACCCTAACCCTAACCCTAACCCTAACCCTAACCCTAACCCTAACCCTAACCCTAACCCNAACCCTAACCCTAACCCTAACCCTAACCCTAAC', 'TAACCCTAACCCTAACCCTAACCCTAACCCTAACCCTAACCCTAACCCTAACCCTAACCCTAACCCNAACCCTAACCCTAACCCTAACCCTAACCCTACC', 'AACCCTAACCCTAACCCTAACCCTAACCCTAACCCTAACCCTAACCCTAACCCTAACCCTAACCCTNACCCTAACCCTAACCCTAACCCTAAACCTAACC']\n",
            "['HHHHHHHHHHHHHHHHHHHHHHHHHHHHHHHHHHHHHHHHHHHGFHHHFHFFHHHHHGHHFHEH@4#55554455HGFBF<@C>7EEF@FBEDDD<=C<E', 'HHHHHHHHHHHHHHHHHHHHHHHHHHHHHHHHHHHHHHHHHHHHHHHHHHHHHHHHCHHHHEHHBA#C>@54455C/7=CGHEGEB;C############', 'HHHHHHHHHHHHHHHHHHHHHHHHHHHHHHGHHHHHHHHHHHHHDHHHDEHHHHFGIHEHEGGGF4#45655366GIGEHAGBG################', 'HHHHHHHHHHHHHHHHHHHHHHHHHIHHHHHHHHHHHHHHHHHHHHHHIHHHHHIHFHHHIHHHHD#ECA54655GGIBH?BD@+BCBF?5A=::>8?##', 'HHHHHHHHHHHHHHHHHHHHHHHHHHHHHHHHHHHHHHHHHHHHHHHIHIHEHHIGHIFFHIIGF6#555:2=7=CB;?3CAACBAC2B###########']\n",
            "100\n"
          ]
        }
      ]
    },
    {
      "cell_type": "code",
      "source": [
        "def QtoPhred33(Q):\n",
        "    '''Turn Q into Phred+33 ASCII-­‐encoded quality'''\n",
        "    return chr(Q + 33) # converts character to integer according to ASCII table\n",
        "\n",
        "def phred33ToQ(qual):\n",
        "    '''Turn Phred+33 ASCII-encoded quality into Q'''\n",
        "    return ord(qual) - 33 # converts integer to character according to ASCII table\n",
        "\n",
        "def createHistory(qualities):\n",
        "    history = [0] * 50\n",
        "    for qual in qualities:\n",
        "        for phred in qual:\n",
        "            q = phred33ToQ(phred)\n",
        "            history[q] += 1\n",
        "    return history\n",
        "h = createHistory(qual)\n",
        "print(h)"
      ],
      "metadata": {
        "colab": {
          "base_uri": "https://localhost:8080/"
        },
        "id": "BZtxc9xx5biM",
        "outputId": "3704d8d3-fc1e-4d14-8e02-2a76a4cc8d33"
      },
      "execution_count": 56,
      "outputs": [
        {
          "output_type": "stream",
          "name": "stdout",
          "text": [
            "[0, 0, 17723, 0, 2, 11, 11, 28, 23, 55, 100, 111, 86, 174, 185, 272, 317, 259, 390, 1523, 2782, 762, 286, 413, 403, 538, 351, 694, 971, 777, 1024, 1449, 1341, 1312, 1916, 2233, 3025, 4043, 6640, 45696, 2074, 0, 0, 0, 0, 0, 0, 0, 0, 0]\n"
          ]
        }
      ]
    },
    {
      "cell_type": "code",
      "source": [
        "%matplotlib\n",
        "get_ipython().run_line_magic('matplotlib', 'inline')\n",
        "import matplotlib.pyplot as plt\n",
        "plt.bar(range(len(h)), h)\n",
        "plt.show()"
      ],
      "metadata": {
        "colab": {
          "base_uri": "https://localhost:8080/",
          "height": 282
        },
        "id": "0cmY_KC15z-U",
        "outputId": "ecb7011c-5529-4e49-a4c9-098d734656bf"
      },
      "execution_count": 57,
      "outputs": [
        {
          "output_type": "stream",
          "name": "stdout",
          "text": [
            "Using matplotlib backend: agg\n"
          ]
        },
        {
          "output_type": "display_data",
          "data": {
            "image/png": "[encoded data removed]",
            "text/plain": [
              "<Figure size 432x288 with 1 Axes>"
            ]
          },
          "metadata": {
            "needs_background": "light"
          }
        }
      ]
    }
  ]
}